{
  "nbformat": 4,
  "nbformat_minor": 0,
  "metadata": {
    "colab": {
      "name": "colab_starter.ipynb",
      "provenance": [],
      "include_colab_link": true
    },
    "kernelspec": {
      "name": "python3",
      "display_name": "Python 3"
    }
  },
  "cells": [
    {
      "cell_type": "markdown",
      "metadata": {
        "id": "view-in-github",
        "colab_type": "text"
      },
      "source": [
        "<a href=\"https://colab.research.google.com/github/vpresweb/AutoGPT/blob/master/colab_starter.ipynb\" target=\"_parent\"><img src=\"https://colab.research.google.com/assets/colab-badge.svg\" alt=\"Open In Colab\"/></a>"
      ]
    },
    {
      "cell_type": "code",
      "metadata": {
        "id": "txznnS0b-kqQ",
        "colab": {
          "base_uri": "https://localhost:8080/"
        },
        "outputId": "79d870db-5b54-4d9d-d012-4772763f005f"
      },
      "source": [
        "start_hour = int(input('Когда начался рабочий день? ' ))\n",
        "total_minutes = 0\n",
        "total_hours =  0\n",
        "for i in range(start_hour, 20):\n",
        "  total_hours += 1\n",
        "  print('Время ', i+1, ' часов.')\n",
        "  total_minutes += int(input('Сколько минут разминался? '))\n",
        "  if total_minutes >= 45:\n",
        "    break\n",
        "print ('Время разминки: ', total_minutes, ' минут.')\n",
        "if total_minutes >= 45:\n",
        "  print('Ты достиг результата 45 минут разминки')\n",
        "else:\n",
        "  print('Ты не достиг результата 45 минут разминки')\n",
        "print('Провел на работе: ', total_hours, ' часов.')\n"
      ],
      "execution_count": 16,
      "outputs": [
        {
          "output_type": "stream",
          "name": "stdout",
          "text": [
            "Когда начался рабочий день? 10\n",
            "Время  11  часов.\n",
            "Сколько минут разминался? 45\n",
            "Время разминки:  45  минут.\n",
            "Ты достиг результата 45 минут разминки\n",
            "Провел на работе:  1  часов.\n"
          ]
        }
      ]
    }
  ]
}